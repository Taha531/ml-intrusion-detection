{
 "cells": [
  {
   "cell_type": "code",
   "execution_count": null,
   "id": "6cae0de2",
   "metadata": {},
   "outputs": [],
   "source": [
    "from scripts.preprocess import load_and_preprocess\n",
    "X, y, feature_names = load_and_preprocess()\n",
    "print(X.shape)"
   ]
  },
  {
   "cell_type": "code",
   "execution_count": null,
   "id": "ff78d048",
   "metadata": {},
   "outputs": [],
   "source": [
    "import numpy as np\n",
    "import pandas as pd\n",
    "pd.Series(y).value_counts(normalize=True)"
   ]
  },
  {
   "cell_type": "code",
   "execution_count": null,
   "id": "988a5602",
   "metadata": {},
   "outputs": [],
   "source": [
    "from sklearn.model_selection import train_test_split\n",
    "from sklearn.tree import DecisionTreeClassifier\n",
    "from sklearn.metrics import classification_report\n",
    "X_train, X_test, y_train, y_test = train_test_split(X, y, test_size=0.3, random_state=42, stratify=y)\n",
    "dt = DecisionTreeClassifier(max_depth=9, random_state=42)\n",
    "dt.fit(X_train, y_train)\n",
    "print(classification_report(y_test, dt.predict(X_test)))"
   ]
  }
 ],
 "metadata": {
  "language_info": {
   "name": "python"
  }
 },
 "nbformat": 4,
 "nbformat_minor": 5
}
